{
 "cells": [
  {
   "cell_type": "markdown",
   "metadata": {},
   "source": [
    "# Blood Pressure Analysis"
   ]
  },
  {
   "cell_type": "code",
   "execution_count": null,
   "metadata": {},
   "outputs": [],
   "source": [
    "import pandas as pd\n",
    "import matplotlib.pyplot as plt\n",
    "import seaborn as sns\n",
    "#Import dependencies\n",
    "import numpy as np\n",
    "import seaborn as sns\n",
    "import os as os\n",
    "import calendar"
   ]
  },
  {
   "cell_type": "markdown",
   "metadata": {},
   "source": [
    "Load data"
   ]
  },
  {
   "cell_type": "code",
   "execution_count": null,
   "metadata": {},
   "outputs": [],
   "source": [
    "df = pd.read_csv('input/blood_pressure.csv')"
   ]
  },
  {
   "cell_type": "code",
   "execution_count": null,
   "metadata": {},
   "outputs": [],
   "source": [
    "df.dropna(inplace=True)\n",
    "# Convert 'Timestamp' column to datetime format\n",
    "df['Timestamp'] = pd.to_datetime(df['Timestamp'])\n",
    "\n",
    "# Drop rows with missing values\n",
    "df.dropna(subset=['systolic pressure', 'diastolic pressure', 'bpm', 'mg'], inplace=True)\n",
    "\n",
    "# Data exploration\n",
    "print(df.describe())"
   ]
  },
  {
   "cell_type": "code",
   "execution_count": null,
   "metadata": {},
   "outputs": [],
   "source": [
    "plt.figure(figsize=(18, 8))  # Wider figure\n",
    "# Line plots for systolic and diastolic pressures\n",
    "plt.subplot(2, 1, 1)\n",
    "sns.lineplot(x='Timestamp', y='systolic pressure', data=df, marker='o', label='Systolic Pressure')\n",
    "sns.lineplot(x='Timestamp', y='diastolic pressure', data=df, marker='o', label='Diastolic Pressure')\n",
    "plt.xlabel('Timestamp')\n",
    "plt.ylabel('Pressure')\n",
    "plt.title('Systolic and Diastolic Pressure over Time')\n",
    "plt.legend()"
   ]
  },
  {
   "cell_type": "code",
   "execution_count": null,
   "metadata": {},
   "outputs": [],
   "source": [
    "plt.figure(figsize=(18, 8))  # Wider figure\n",
    "# Line plot for heart rate\n",
    "plt.subplot(2, 1, 2)\n",
    "sns.lineplot(x='Timestamp', y='bpm', data=df, marker='o', color='green')\n",
    "plt.xlabel('Timestamp')\n",
    "plt.ylabel('Heart Rate (bpm)')\n",
    "plt.title('Heart Rate over Time')\n",
    "plt.tight_layout()\n",
    "plt.show()"
   ]
  },
  {
   "cell_type": "markdown",
   "metadata": {},
   "source": [
    "Overall:"
   ]
  },
  {
   "cell_type": "code",
   "execution_count": null,
   "metadata": {},
   "outputs": [],
   "source": [
    "#Calculate mean for each column except 'Timestamp' and 'mg'\n",
    "mean = df.drop(columns=['Timestamp', 'mg']).mean()\n",
    "print(f\"Mean (Átlag):\")\n",
    "print(mean)\n",
    "\n",
    "\n",
    "\n",
    "#Calculate standard deviation for each column except 'Timestamp' and 'mg'\n",
    "std_dev = df.drop(columns=['Timestamp', 'mg']).std()\n",
    "print(f\"Standard deviation (Szórás):\")\n",
    "print(std_dev)"
   ]
  },
  {
   "cell_type": "markdown",
   "metadata": {},
   "source": [
    "## 5 mg dose"
   ]
  },
  {
   "cell_type": "code",
   "execution_count": null,
   "metadata": {},
   "outputs": [],
   "source": [
    "#Calculate mean for each column except 'Timestamp' and 'mg' for where 'mg' is 5\n",
    "mean = df[df['mg'] == 5].drop(columns=['Timestamp', 'mg']).mean()\n",
    "print(f\"Mean (Átlag) where 'mg' is 5:\")\n",
    "print(mean)\n",
    "\n",
    "# Calculate standard deviation for each column except 'Timestamp' and 'mg' for where 'mg' is 5\n",
    "std_dev = df[df['mg'] == 5].drop(columns=['Timestamp', 'mg']).std()\n",
    "print(f\"Standard deviation (Szórás) where 'mg' is 5:\")\n",
    "print(std_dev)"
   ]
  },
  {
   "cell_type": "code",
   "execution_count": null,
   "metadata": {},
   "outputs": [],
   "source": [
    "#visualize the data where 'mg' is 5\n",
    "plt.figure(figsize=(18, 8))  # Wider figure\n",
    "# Line plots for systolic and diastolic pressures\n",
    "plt.subplot(2, 1, 1)\n",
    "sns.lineplot(x='Timestamp', y='systolic pressure', data=df[df['mg'] == 5], marker='o', label='Systolic Pressure')\n",
    "sns.lineplot(x='Timestamp', y='diastolic pressure', data=df[df['mg'] == 5], marker='o', label='Diastolic Pressure')\n",
    "plt.xlabel('Timestamp')\n",
    "plt.ylabel('Pressure')\n",
    "plt.title('Systolic and Diastolic Pressure over Time where mg is 5')\n",
    "plt.legend()\n",
    "plt.show()"
   ]
  },
  {
   "cell_type": "markdown",
   "metadata": {},
   "source": [
    "## 10 mg dose"
   ]
  },
  {
   "cell_type": "code",
   "execution_count": null,
   "metadata": {},
   "outputs": [],
   "source": [
    "#Calculate mean for each column except 'Timestamp' and 'mg' for where 'mg' is 10\n",
    "mean = df[df['mg'] == 10].drop(columns=['Timestamp', 'mg']).mean()\n",
    "print(f\"Mean (Átlag) where 'mg' is 10:\")\n",
    "print(mean)\n",
    "\n",
    "# Calculate standard deviation for each column except 'Timestamp' and 'mg' for where 'mg' is 5\n",
    "std_dev = df[df['mg'] == 10].drop(columns=['Timestamp', 'mg']).std()\n",
    "print(f\"Standard deviation (Szórás) where 'mg' is 10:\")\n",
    "print(std_dev)\n"
   ]
  },
  {
   "cell_type": "code",
   "execution_count": null,
   "metadata": {},
   "outputs": [],
   "source": [
    "#visualize the data where 'mg' is 10\n",
    "plt.figure(figsize=(18, 8))  # Wider figure\n",
    "# Line plots for systolic and diastolic pressures\n",
    "plt.subplot(2, 1, 1)\n",
    "sns.lineplot(x='Timestamp', y='systolic pressure', data=df[df['mg'] == 10], marker='o', label='Systolic Pressure')\n",
    "sns.lineplot(x='Timestamp', y='diastolic pressure', data=df[df['mg'] == 10], marker='o', label='Diastolic Pressure')\n",
    "plt.xlabel('Timestamp')\n",
    "plt.ylabel('Pressure')\n",
    "plt.title('Systolic and Diastolic Pressure over Time where mg is 10')\n",
    "plt.legend()\n",
    "plt.show()"
   ]
  },
  {
   "cell_type": "code",
   "execution_count": null,
   "metadata": {},
   "outputs": [],
   "source": [
    "#show the data in a boxplot\n",
    "plt.figure(figsize=(18, 8))\n",
    "plt.subplot(2, 1, 1)\n",
    "sns.boxplot(x='mg', y='systolic pressure', data=df)\n",
    "plt.xlabel('mg')\n",
    "plt.ylabel('Systolic Pressure')\n",
    "plt.title('Systolic Pressure by mg')\n",
    "plt.subplot(2, 1, 2)\n",
    "sns.boxplot(x='mg', y='diastolic pressure', data=df)\n",
    "plt.xlabel('mg')\n",
    "plt.ylabel('Diastolic Pressure')\n",
    "plt.title('Diastolic Pressure by mg')\n",
    "plt.tight_layout()\n",
    "plt.show()\n"
   ]
  }
 ],
 "metadata": {
  "kernelspec": {
   "display_name": ".venv",
   "language": "python",
   "name": "python3"
  },
  "language_info": {
   "codemirror_mode": {
    "name": "ipython",
    "version": 3
   },
   "file_extension": ".py",
   "mimetype": "text/x-python",
   "name": "python",
   "nbconvert_exporter": "python",
   "pygments_lexer": "ipython3",
   "version": "3.11.9"
  }
 },
 "nbformat": 4,
 "nbformat_minor": 2
}
